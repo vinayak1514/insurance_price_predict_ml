{
 "cells": [
  {
   "cell_type": "code",
   "execution_count": 82,
   "id": "e8dc5daf",
   "metadata": {},
   "outputs": [],
   "source": [
    "import pandas as pd\n",
    "import numpy as np\n",
    "from sklearn.metrics import mean_squared_error,mean_absolute_error,r2_score\n",
    "from sklearn.preprocessing import StandardScaler,MinMaxScaler\n",
    "from sklearn.linear_model import LinearRegression,Ridge,Lasso,ElasticNet\n",
    "from sklearn.svm import SVR\n",
    "from sklearn.ensemble import AdaBoostRegressor,BaggingRegressor,GradientBoostingRegressor,RandomForestRegressor\n",
    "from sklearn.tree import DecisionTreeRegressor\n",
    "from sklearn.pipeline import Pipeline\n",
    "from xgboost import XGBRegressor\n",
    "from sklearn.model_selection import cross_val_score,train_test_split"
   ]
  },
  {
   "cell_type": "code",
   "execution_count": 7,
   "id": "ac433467",
   "metadata": {},
   "outputs": [],
   "source": [
    "import warnings\n",
    "warnings.filterwarnings('ignore')"
   ]
  },
  {
   "cell_type": "code",
   "execution_count": 13,
   "id": "c1d2b811",
   "metadata": {},
   "outputs": [
    {
     "data": {
      "text/html": [
       "<div>\n",
       "<style scoped>\n",
       "    .dataframe tbody tr th:only-of-type {\n",
       "        vertical-align: middle;\n",
       "    }\n",
       "\n",
       "    .dataframe tbody tr th {\n",
       "        vertical-align: top;\n",
       "    }\n",
       "\n",
       "    .dataframe thead th {\n",
       "        text-align: right;\n",
       "    }\n",
       "</style>\n",
       "<table border=\"1\" class=\"dataframe\">\n",
       "  <thead>\n",
       "    <tr style=\"text-align: right;\">\n",
       "      <th></th>\n",
       "      <th>age</th>\n",
       "      <th>sex</th>\n",
       "      <th>bmi</th>\n",
       "      <th>children</th>\n",
       "      <th>smoker</th>\n",
       "      <th>region</th>\n",
       "      <th>expenses</th>\n",
       "    </tr>\n",
       "  </thead>\n",
       "  <tbody>\n",
       "    <tr>\n",
       "      <th>1184</th>\n",
       "      <td>23</td>\n",
       "      <td>female</td>\n",
       "      <td>28.5</td>\n",
       "      <td>1</td>\n",
       "      <td>yes</td>\n",
       "      <td>southeast</td>\n",
       "      <td>18328.24</td>\n",
       "    </tr>\n",
       "    <tr>\n",
       "      <th>596</th>\n",
       "      <td>42</td>\n",
       "      <td>female</td>\n",
       "      <td>29.5</td>\n",
       "      <td>2</td>\n",
       "      <td>no</td>\n",
       "      <td>southeast</td>\n",
       "      <td>7640.31</td>\n",
       "    </tr>\n",
       "    <tr>\n",
       "      <th>1103</th>\n",
       "      <td>58</td>\n",
       "      <td>male</td>\n",
       "      <td>36.1</td>\n",
       "      <td>0</td>\n",
       "      <td>no</td>\n",
       "      <td>southeast</td>\n",
       "      <td>11363.28</td>\n",
       "    </tr>\n",
       "    <tr>\n",
       "      <th>52</th>\n",
       "      <td>48</td>\n",
       "      <td>male</td>\n",
       "      <td>28.0</td>\n",
       "      <td>1</td>\n",
       "      <td>yes</td>\n",
       "      <td>southwest</td>\n",
       "      <td>23568.27</td>\n",
       "    </tr>\n",
       "    <tr>\n",
       "      <th>1008</th>\n",
       "      <td>25</td>\n",
       "      <td>male</td>\n",
       "      <td>25.0</td>\n",
       "      <td>2</td>\n",
       "      <td>no</td>\n",
       "      <td>northeast</td>\n",
       "      <td>23241.47</td>\n",
       "    </tr>\n",
       "    <tr>\n",
       "      <th>1129</th>\n",
       "      <td>19</td>\n",
       "      <td>female</td>\n",
       "      <td>18.6</td>\n",
       "      <td>0</td>\n",
       "      <td>no</td>\n",
       "      <td>southwest</td>\n",
       "      <td>1728.90</td>\n",
       "    </tr>\n",
       "    <tr>\n",
       "      <th>78</th>\n",
       "      <td>22</td>\n",
       "      <td>female</td>\n",
       "      <td>39.8</td>\n",
       "      <td>0</td>\n",
       "      <td>no</td>\n",
       "      <td>northeast</td>\n",
       "      <td>2755.02</td>\n",
       "    </tr>\n",
       "    <tr>\n",
       "      <th>861</th>\n",
       "      <td>38</td>\n",
       "      <td>female</td>\n",
       "      <td>28.0</td>\n",
       "      <td>3</td>\n",
       "      <td>no</td>\n",
       "      <td>southwest</td>\n",
       "      <td>7151.09</td>\n",
       "    </tr>\n",
       "    <tr>\n",
       "      <th>500</th>\n",
       "      <td>29</td>\n",
       "      <td>male</td>\n",
       "      <td>34.4</td>\n",
       "      <td>0</td>\n",
       "      <td>yes</td>\n",
       "      <td>southwest</td>\n",
       "      <td>36197.70</td>\n",
       "    </tr>\n",
       "    <tr>\n",
       "      <th>1248</th>\n",
       "      <td>18</td>\n",
       "      <td>female</td>\n",
       "      <td>39.8</td>\n",
       "      <td>0</td>\n",
       "      <td>no</td>\n",
       "      <td>southeast</td>\n",
       "      <td>1633.96</td>\n",
       "    </tr>\n",
       "  </tbody>\n",
       "</table>\n",
       "</div>"
      ],
      "text/plain": [
       "      age     sex   bmi  children smoker     region  expenses\n",
       "1184   23  female  28.5         1    yes  southeast  18328.24\n",
       "596    42  female  29.5         2     no  southeast   7640.31\n",
       "1103   58    male  36.1         0     no  southeast  11363.28\n",
       "52     48    male  28.0         1    yes  southwest  23568.27\n",
       "1008   25    male  25.0         2     no  northeast  23241.47\n",
       "1129   19  female  18.6         0     no  southwest   1728.90\n",
       "78     22  female  39.8         0     no  northeast   2755.02\n",
       "861    38  female  28.0         3     no  southwest   7151.09\n",
       "500    29    male  34.4         0    yes  southwest  36197.70\n",
       "1248   18  female  39.8         0     no  southeast   1633.96"
      ]
     },
     "execution_count": 13,
     "metadata": {},
     "output_type": "execute_result"
    }
   ],
   "source": [
    "df = pd.read_csv(\"https://raw.githubusercontent.com/yashdahekar/Insurance_Premium_Prediction/main/notebooks/data/insurance.csv\")\n",
    "df.sample(10)"
   ]
  },
  {
   "cell_type": "code",
   "execution_count": 14,
   "id": "0f0222e2",
   "metadata": {},
   "outputs": [],
   "source": [
    "df['sex']=df['sex'].map({'male':0,'female':1})\n",
    "df['smoker']=df['smoker'].map({'yes':1,'no':0})\n",
    "df['region']=df['region'].map({'northwest':0, 'northeast':1,'southeast':2,'southwest':3})\n",
    "\n",
    "# Drop duplicate rows\n",
    "df.drop_duplicates(inplace=True)"
   ]
  },
  {
   "cell_type": "code",
   "execution_count": 15,
   "id": "f6d1b3fd",
   "metadata": {},
   "outputs": [],
   "source": [
    "X = df.drop('expenses', axis=1)\n",
    "y = df['expenses']"
   ]
  },
  {
   "cell_type": "code",
   "execution_count": 44,
   "id": "f898acdb",
   "metadata": {},
   "outputs": [],
   "source": [
    "train_score = []\n",
    "test_score = []\n",
    "cross_val = []\n",
    "for state in range(40,50):\n",
    "    X_train,X_test,y_train,y_test = train_test_split(X,y,test_size=0.2,random_state=state)\n",
    "    \n",
    "    model = LinearRegression()\n",
    "    model.fit(X_train,y_train)\n",
    "    train_score.append(model.score(X_train,y_train))\n",
    "    test_score.append(model.score(X_test,y_test))\n",
    "    cvs=(cross_val_score(model,X,y,cv=5,)).mean()\n",
    "    cross_val.append(cvs)\n",
    "df1=pd.DataFrame({'train acc':train_score,'test acc':test_score,'cvs':cross_val})"
   ]
  },
  {
   "cell_type": "code",
   "execution_count": 48,
   "id": "44351e21",
   "metadata": {},
   "outputs": [
    {
     "name": "stdout",
     "output_type": "stream",
     "text": [
      "LinearRegression\n",
      "0.7294764585037568\n",
      "0.8060851445991865\n",
      "0.7469845487559986\n"
     ]
    }
   ],
   "source": [
    "xtrain,xtest,ytrain,ytest=train_test_split(X,y,test_size=0.2,random_state=42)\n",
    "\n",
    "print('LinearRegression')\n",
    "lrmodel=LinearRegression()\n",
    "lrmodel.fit(xtrain,ytrain)\n",
    "print(lrmodel.score(xtrain,ytrain))\n",
    "print(lrmodel.score(xtest,ytest))\n",
    "print(cross_val_score(lrmodel,X,y,cv=5,).mean())"
   ]
  },
  {
   "cell_type": "code",
   "execution_count": 56,
   "id": "2b41d3a2",
   "metadata": {},
   "outputs": [],
   "source": [
    "X_train,X_test,y_train,y_test=train_test_split(X,y,test_size=0.2,random_state=42)\n",
    "scaler = StandardScaler()\n",
    "X_train_scaled = scaler.fit_transform(X_train,y_train)\n",
    "X_test_scaled = scaler.transform(X_test)"
   ]
  },
  {
   "cell_type": "code",
   "execution_count": 61,
   "id": "762336c7",
   "metadata": {},
   "outputs": [
    {
     "name": "stdout",
     "output_type": "stream",
     "text": [
      "LinearRegression\n",
      "0.8060851445991863\n"
     ]
    }
   ],
   "source": [
    "\n",
    "\n",
    "print('LinearRegression')\n",
    "lrmodel=LinearRegression()\n",
    "lrmodel.fit(X_train_scaled,ytrain)\n",
    "# print(lrmodel.score(X_train_scaled,ytrain))\n",
    "# print(lrmodel.score(X_test_scaled,ytest))\n",
    "# print(cross_val_score(lrmodel,X,y,cv=5,).mean())\n",
    "y_pred = lrmodel.predict(X_test_scaled)\n",
    "print(r2_score(y_test,y_pred))"
   ]
  },
  {
   "cell_type": "code",
   "execution_count": 50,
   "id": "7f3c10ee",
   "metadata": {},
   "outputs": [
    {
     "name": "stdout",
     "output_type": "stream",
     "text": [
      "SVR\n",
      "-0.10151261342106288\n",
      "-0.13444640564948562\n",
      "-0.10374370402776947\n"
     ]
    }
   ],
   "source": [
    "from sklearn.metrics import r2_score\n",
    "print('SVR')\n",
    "\n",
    "svrmodel=SVR()\n",
    "svrmodel.fit(xtrain,ytrain)\n",
    "ypredtrain1=svrmodel.predict(xtrain)\n",
    "ypredtest1=svrmodel.predict(xtest)\n",
    "print(r2_score(ytrain,ypredtrain1))\n",
    "print(r2_score(ytest,ypredtest1))\n",
    "print(cross_val_score(svrmodel,X,y,cv=5,).mean())"
   ]
  },
  {
   "cell_type": "code",
   "execution_count": 52,
   "id": "b0221e4b",
   "metadata": {},
   "outputs": [
    {
     "name": "stdout",
     "output_type": "stream",
     "text": [
      "RandomForestRegressor:\n",
      "0.9738795992068785\n",
      "0.8816702601099398\n",
      "0.8365119070918684\n",
      "Hyperparametertuning\n",
      "{'n_estimators': 120}\n",
      "0.9747098036172237\n",
      "0.8819718448025101\n",
      "0.8371418060948695\n"
     ]
    }
   ],
   "source": [
    "print(\"RandomForestRegressor:\")\n",
    "rfmodel=RandomForestRegressor(random_state=42)\n",
    "rfmodel.fit(xtrain,ytrain)\n",
    "ypredtrain2=rfmodel.predict(xtrain)\n",
    "ypredtest2=rfmodel.predict(xtest)\n",
    "print(r2_score(ytrain,ypredtrain2))\n",
    "print(r2_score(ytest,ypredtest2))\n",
    "print(cross_val_score(rfmodel,X,y,cv=5,).mean())\n",
    "\n",
    "\n",
    "print(\"Hyperparametertuning\")\n",
    "from sklearn.model_selection import GridSearchCV\n",
    "estimator=RandomForestRegressor(random_state=42)\n",
    "param_grid={'n_estimators':[10,40,50,98,100,120,150]}\n",
    "grid=GridSearchCV(estimator,param_grid,scoring=\"r2\",cv=5)\n",
    "grid.fit(xtrain,ytrain)\n",
    "print(grid.best_params_)\n",
    "rfmodel=RandomForestRegressor(random_state=42,n_estimators=120)\n",
    "rfmodel.fit(xtrain,ytrain)\n",
    "ypredtrain2=rfmodel.predict(xtrain)\n",
    "ypredtest2=rfmodel.predict(xtest)\n",
    "print(r2_score(ytrain,ypredtrain2))\n",
    "print(r2_score(ytest,ypredtest2))\n",
    "print(cross_val_score(rfmodel,X,y,cv=5,).mean())"
   ]
  },
  {
   "cell_type": "code",
   "execution_count": 62,
   "id": "a9f73b98",
   "metadata": {},
   "outputs": [],
   "source": [
    "def evaluate_model(true, predicted):\n",
    "    mae = mean_absolute_error(true, predicted)\n",
    "    mse = mean_squared_error(true, predicted)\n",
    "    rmse = np.sqrt(mean_squared_error(true, predicted))\n",
    "    r2_square = r2_score(true, predicted)\n",
    "    return mae, rmse, r2_square"
   ]
  },
  {
   "cell_type": "code",
   "execution_count": 120,
   "id": "9e7c860c",
   "metadata": {},
   "outputs": [],
   "source": [
    "models = {\n",
    "    'LinearRegression':LinearRegression(),\n",
    "    'Lasso':Lasso(),\n",
    "    'Ridge':Ridge(),\n",
    "    'Elasticnet':ElasticNet(),\n",
    "    \"SVR\":SVR(),\n",
    "    \"adaboost\":AdaBoostRegressor(),\n",
    "    \"Bagging\":BaggingRegressor(),\n",
    "    \"gradBoosting\":GradientBoostingRegressor(),\n",
    "    \"randomforest\":RandomForestRegressor(),\n",
    "    \"Decision\":DecisionTreeRegressor(),\n",
    "    'xgb':XGBRegressor()\n",
    "}"
   ]
  },
  {
   "cell_type": "code",
   "execution_count": 84,
   "id": "313ada02",
   "metadata": {},
   "outputs": [],
   "source": [
    "trained_model_list=[]\n",
    "model_list=[]\n",
    "r2_list=[]"
   ]
  },
  {
   "cell_type": "code",
   "execution_count": 85,
   "id": "b51dce37",
   "metadata": {},
   "outputs": [
    {
     "data": {
      "text/plain": [
       "['LinearRegression',\n",
       " 'Lasso',\n",
       " 'Ridge',\n",
       " 'Elasticnet',\n",
       " 'SVR',\n",
       " 'adaboost',\n",
       " 'Bagging',\n",
       " 'gradBoosting',\n",
       " 'randomforest',\n",
       " 'Decision',\n",
       " 'xgb']"
      ]
     },
     "execution_count": 85,
     "metadata": {},
     "output_type": "execute_result"
    }
   ],
   "source": [
    "list(models)"
   ]
  },
  {
   "cell_type": "code",
   "execution_count": 86,
   "id": "2a2d33db",
   "metadata": {},
   "outputs": [
    {
     "name": "stdout",
     "output_type": "stream",
     "text": [
      "LinearRegression()\n",
      "Lasso()\n",
      "Ridge()\n",
      "ElasticNet()\n",
      "SVR()\n",
      "AdaBoostRegressor()\n",
      "BaggingRegressor()\n",
      "GradientBoostingRegressor()\n",
      "RandomForestRegressor()\n",
      "DecisionTreeRegressor()\n",
      "XGBRegressor(base_score=None, booster=None, callbacks=None,\n",
      "             colsample_bylevel=None, colsample_bynode=None,\n",
      "             colsample_bytree=None, device=None, early_stopping_rounds=None,\n",
      "             enable_categorical=False, eval_metric=None, feature_types=None,\n",
      "             gamma=None, grow_policy=None, importance_type=None,\n",
      "             interaction_constraints=None, learning_rate=None, max_bin=None,\n",
      "             max_cat_threshold=None, max_cat_to_onehot=None,\n",
      "             max_delta_step=None, max_depth=None, max_leaves=None,\n",
      "             min_child_weight=None, missing=nan, monotone_constraints=None,\n",
      "             multi_strategy=None, n_estimators=None, n_jobs=None,\n",
      "             num_parallel_tree=None, random_state=None, ...)\n"
     ]
    }
   ],
   "source": [
    "for i in range(len(models)):\n",
    "    model = list(models.values())[i]\n",
    "    print(model)"
   ]
  },
  {
   "cell_type": "code",
   "execution_count": 87,
   "id": "823be652",
   "metadata": {},
   "outputs": [
    {
     "name": "stdout",
     "output_type": "stream",
     "text": [
      "LinearRegression\n",
      "Model Training Performance\n",
      "RMSE: 5969.340956281675\n",
      "MAE: 4185.431622715441\n",
      "R2 score 80.60851445991865\n",
      "===================================\n",
      "\n",
      "\n",
      "Lasso\n",
      "Model Training Performance\n",
      "RMSE: 5970.130010113579\n",
      "MAE: 4186.125914511538\n",
      "R2 score 80.60338761681963\n",
      "===================================\n",
      "\n",
      "\n",
      "Ridge\n",
      "Model Training Performance\n",
      "RMSE: 5983.998368642142\n",
      "MAE: 4201.505579948953\n",
      "R2 score 80.5131679361279\n",
      "===================================\n",
      "\n",
      "\n",
      "Elasticnet\n",
      "Model Training Performance\n",
      "RMSE: 10557.852271804284\n",
      "MAE: 7860.478245606802\n",
      "R2 score 39.33901312609023\n",
      "===================================\n",
      "\n",
      "\n",
      "SVR\n",
      "Model Training Performance\n",
      "RMSE: 14438.192803357986\n",
      "MAE: 9249.88940527465\n",
      "R2 score -13.444640564948562\n",
      "===================================\n",
      "\n",
      "\n",
      "adaboost\n",
      "Model Training Performance\n",
      "RMSE: 5060.728394564313\n",
      "MAE: 4169.275575034788\n",
      "R2 score 86.06251641509887\n",
      "===================================\n",
      "\n",
      "\n",
      "Bagging\n",
      "Model Training Performance\n",
      "RMSE: 5049.285995778239\n",
      "MAE: 2780.1987425373136\n",
      "R2 score 86.12547097073944\n",
      "===================================\n",
      "\n",
      "\n",
      "gradBoosting\n",
      "Model Training Performance\n",
      "RMSE: 4258.087690347157\n",
      "MAE: 2526.4662682640155\n",
      "R2 score 90.13294585228158\n",
      "===================================\n",
      "\n",
      "\n",
      "randomforest\n",
      "Model Training Performance\n",
      "RMSE: 4729.227309126136\n",
      "MAE: 2662.647428731342\n",
      "R2 score 87.82865179699081\n",
      "===================================\n",
      "\n",
      "\n",
      "Decision\n",
      "Model Training Performance\n",
      "RMSE: 6719.248207029768\n",
      "MAE: 3180.430932835821\n",
      "R2 score 75.43030995599885\n",
      "===================================\n",
      "\n",
      "\n",
      "xgb\n",
      "Model Training Performance\n",
      "RMSE: 4941.489858815405\n",
      "MAE: 2849.8106551759633\n",
      "R2 score 86.71155612763997\n",
      "===================================\n",
      "\n",
      "\n"
     ]
    }
   ],
   "source": [
    "for i in range(len(list(models))):\n",
    "    model=list(models.values())[i]\n",
    "    model.fit(X_train,y_train)\n",
    "\n",
    "    #Make Predictions\n",
    "    y_pred=model.predict(X_test)\n",
    "\n",
    "    #this is a validation(test) score\n",
    "    mae, rmse, r2_square=evaluate_model(y_test,y_pred)\n",
    "\n",
    "    print(list(models.keys())[i])\n",
    "    model_list.append(list(models.keys())[i])\n",
    "\n",
    "    print('Model Training Performance')\n",
    "    print(\"RMSE:\",rmse)\n",
    "    print(\"MAE:\",mae)\n",
    "    print(\"R2 score\",r2_square*100)\n",
    "\n",
    "    r2_list.append(r2_square)\n",
    "    \n",
    "    print('='*35)\n",
    "    print('\\n')"
   ]
  },
  {
   "cell_type": "code",
   "execution_count": 101,
   "id": "e9401ffd",
   "metadata": {},
   "outputs": [
    {
     "data": {
      "text/plain": [
       "{'learning_rate': 0.01, 'max_depth': 3, 'n_estimators': 500}"
      ]
     },
     "execution_count": 101,
     "metadata": {},
     "output_type": "execute_result"
    }
   ],
   "source": [
    "gbc = GradientBoostingRegressor()\n",
    "parameters = {\n",
    "    \"n_estimators\":[5,50,250,500],\n",
    "    \"max_depth\":[1,3,5,7,9],\n",
    "    \"learning_rate\":[0.01,0.1,1,10,100]\n",
    "}\n",
    "\n",
    "from sklearn.model_selection import GridSearchCV\n",
    "cv = GridSearchCV(gbc,parameters,cv=5)\n",
    "cv.fit(X_train,y_train)\n",
    "cv.best_params_"
   ]
  },
  {
   "cell_type": "code",
   "execution_count": 97,
   "id": "037cf700",
   "metadata": {},
   "outputs": [
    {
     "name": "stdout",
     "output_type": "stream",
     "text": [
      "90.11495169411076\n"
     ]
    }
   ],
   "source": [
    "gbc = GradientBoostingRegressor(learning_rate= 0.01, max_depth= 3, n_estimators= 500)\n",
    "gbc.fit(X_train,y_train)\n",
    "y_pred = gbc.predict(X_test)\n",
    "print(r2_score(y_test,y_pred)*100)"
   ]
  },
  {
   "cell_type": "code",
   "execution_count": 104,
   "id": "985a0fa1",
   "metadata": {},
   "outputs": [
    {
     "data": {
      "text/plain": [
       "{'learning_rate': 0.01, 'max_depth': 3, 'n_estimators': 500}"
      ]
     },
     "execution_count": 104,
     "metadata": {},
     "output_type": "execute_result"
    }
   ],
   "source": [
    "hyperparameter_grid = {\n",
    "    'n_estimators': [100, 500, 900, 1100, 1500],\n",
    "    'max_depth': [2, 3, 5, 10, 15],\n",
    "    'learning_rate': [0.05, 0.1, 0.15, 0.20],\n",
    "    'min_child_weight': [1, 2, 3, 4]\n",
    "    }\n",
    "xgb = XGBRegressor()\n",
    "cv_xgb = GridSearchCV(xgb,hyperparameter_grid,cv=5)\n",
    "cv_xgb.fit(X_train,y_train)\n"
   ]
  },
  {
   "cell_type": "code",
   "execution_count": 105,
   "id": "d1315653",
   "metadata": {},
   "outputs": [
    {
     "data": {
      "text/plain": [
       "{'learning_rate': 0.05,\n",
       " 'max_depth': 3,\n",
       " 'min_child_weight': 2,\n",
       " 'n_estimators': 100}"
      ]
     },
     "execution_count": 105,
     "metadata": {},
     "output_type": "execute_result"
    }
   ],
   "source": [
    "cv_xgb.best_params_"
   ]
  },
  {
   "cell_type": "code",
   "execution_count": 106,
   "id": "68aae248",
   "metadata": {},
   "outputs": [
    {
     "name": "stdout",
     "output_type": "stream",
     "text": [
      "90.26077103145799\n"
     ]
    }
   ],
   "source": [
    "xgb_re = XGBRegressor(learning_rate= 0.05,max_depth= 3,min_child_weight= 2,n_estimators= 100)\n",
    "xgb_re.fit(X_train,y_train)\n",
    "y_pred =xgb_re.predict(X_test)\n",
    "print(r2_score(y_test,y_pred)*100)"
   ]
  },
  {
   "cell_type": "code",
   "execution_count": 121,
   "id": "842ccd41",
   "metadata": {},
   "outputs": [],
   "source": [
    "# Number of trees in random forest\n",
    "n_estimators = [20,60,100,120]\n",
    "\n",
    "# Number of features to consider at every split\n",
    "max_features = [0.2,0.6,1.0]\n",
    "\n",
    "# Maximum number of levels in tree\n",
    "max_depth = [2,8,None]\n",
    "\n",
    "# Number of samples\n",
    "max_samples = [0.5,0.75,1.0]"
   ]
  },
  {
   "cell_type": "code",
   "execution_count": 122,
   "id": "d59a011b",
   "metadata": {},
   "outputs": [
    {
     "name": "stdout",
     "output_type": "stream",
     "text": [
      "{'n_estimators': [20, 60, 100, 120], 'max_features': [0.2, 0.6, 1.0], 'max_depth': [2, 8, None], 'max_samples': [0.5, 0.75, 1.0]}\n"
     ]
    }
   ],
   "source": [
    "param_grid = {'n_estimators': n_estimators,\n",
    "               'max_features': max_features,\n",
    "               'max_depth': max_depth,\n",
    "              'max_samples':max_samples\n",
    "             }\n",
    "print(param_grid)"
   ]
  },
  {
   "cell_type": "code",
   "execution_count": 124,
   "id": "7157cb8e",
   "metadata": {},
   "outputs": [
    {
     "name": "stdout",
     "output_type": "stream",
     "text": [
      "Fitting 5 folds for each of 108 candidates, totalling 540 fits\n"
     ]
    },
    {
     "data": {
      "text/plain": [
       "{'max_depth': 8, 'max_features': 0.6, 'max_samples': 0.75, 'n_estimators': 120}"
      ]
     },
     "execution_count": 124,
     "metadata": {},
     "output_type": "execute_result"
    }
   ],
   "source": [
    "rf3 = RandomForestRegressor()\n",
    "rf_grid = GridSearchCV(estimator = rf3, \n",
    "                       param_grid = param_grid, \n",
    "                       cv = 5, \n",
    "                       verbose=2, \n",
    "                       n_jobs = -1)\n",
    "\n",
    "rf_grid.fit(X_train,y_train)\n",
    "rf_grid.best_params_"
   ]
  },
  {
   "cell_type": "code",
   "execution_count": 130,
   "id": "a3f5dff9",
   "metadata": {},
   "outputs": [
    {
     "name": "stdout",
     "output_type": "stream",
     "text": [
      "89.182218057539\n"
     ]
    }
   ],
   "source": [
    "X_train,X_test,y_train,y_test = train_test_split(X,y,random_state=42,test_size=0.2)\n",
    "rf = RandomForestRegressor(max_depth= 8, max_features= 0.6, max_samples= 0.75, n_estimators= 120)\n",
    "rf.fit(X_train,y_train)\n",
    "y_pred =rf.predict(X_test)\n",
    "print(r2_score(y_test,y_pred)*100)"
   ]
  },
  {
   "cell_type": "code",
   "execution_count": null,
   "id": "33dab764",
   "metadata": {},
   "outputs": [],
   "source": []
  }
 ],
 "metadata": {
  "kernelspec": {
   "display_name": "Python 3 (ipykernel)",
   "language": "python",
   "name": "python3"
  },
  "language_info": {
   "codemirror_mode": {
    "name": "ipython",
    "version": 3
   },
   "file_extension": ".py",
   "mimetype": "text/x-python",
   "name": "python",
   "nbconvert_exporter": "python",
   "pygments_lexer": "ipython3",
   "version": "3.9.12"
  }
 },
 "nbformat": 4,
 "nbformat_minor": 5
}
